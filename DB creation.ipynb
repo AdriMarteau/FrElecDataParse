{
 "cells": [
  {
   "cell_type": "code",
   "execution_count": 1,
   "metadata": {
    "collapsed": true
   },
   "outputs": [],
   "source": [
    "import pandas as pd\n",
    "import sqlite3 as lite\n",
    "con = lite.connect('../data/election.db')\n",
    "cur = con.cursor() "
   ]
  },
  {
   "cell_type": "markdown",
   "metadata": {},
   "source": [
    "Creating the Candidats table"
   ]
  },
  {
   "cell_type": "code",
   "execution_count": 114,
   "metadata": {
    "collapsed": false,
    "scrolled": true
   },
   "outputs": [
    {
     "data": {
      "text/plain": [
       "<sqlite3.Cursor at 0x104cb0650>"
      ]
     },
     "execution_count": 114,
     "metadata": {},
     "output_type": "execute_result"
    }
   ],
   "source": [
    "cur.execute(\"DROP TABLE IF EXISTS Candidats\")\n",
    "cur.execute(\"\"\"\n",
    "    CREATE TABLE Candidats(\n",
    "    Id INTEGER PRIMARY KEY AUTOINCREMENT,\n",
    "    Sexe TEXT,\n",
    "    Prenom TEXT,\n",
    "    Nom TEXT, \n",
    "    UNIQUE (Prenom, Nom))\"\"\")\n"
   ]
  },
  {
   "cell_type": "markdown",
   "metadata": {},
   "source": [
    "Initiating geo tables"
   ]
  },
  {
   "cell_type": "code",
   "execution_count": 31,
   "metadata": {
    "collapsed": false
   },
   "outputs": [],
   "source": [
    "dept2014_xl = pd.ExcelFile('../data/input/Dep_15_Resultats_com_T1_c.xlsx')\n",
    "dept2014_T1 = dept2014_xl.parse('Feuil1')\n",
    "geos = dept2014_T1[['Libellé de la commune',\n",
    "                    'Code de la commune',\n",
    "                    'Libellé du canton',\n",
    "                    'Code du canton',\n",
    "                    'Libellé du département',\n",
    "                    'Code du département']]\n"
   ]
  },
  {
   "cell_type": "markdown",
   "metadata": {},
   "source": [
    "Creating the Communes table from dept. elections"
   ]
  },
  {
   "cell_type": "code",
   "execution_count": 12,
   "metadata": {
    "collapsed": false
   },
   "outputs": [
    {
     "data": {
      "text/plain": [
       "<sqlite3.Cursor at 0x104cb0650>"
      ]
     },
     "execution_count": 12,
     "metadata": {},
     "output_type": "execute_result"
    }
   ],
   "source": [
    "cur.execute(\"DROP TABLE IF EXISTS Departements\")\n",
    "cur.execute(\"\"\"\n",
    "CREATE TABLE Departements(\n",
    "    Id INTEGER PRIMARY KEY AUTOINCREMENT,\n",
    "    Nom TEXT,\n",
    "    DeptCode TEXT)\"\"\")"
   ]
  },
  {
   "cell_type": "code",
   "execution_count": 18,
   "metadata": {
    "collapsed": false
   },
   "outputs": [],
   "source": [
    "dept = geos[['Libellé du département', 'Code du département']].drop_duplicates()\n",
    "cur.executemany(\"\"\"\n",
    "INSERT INTO Departements(Id, Nom, DeptCode) \n",
    "VALUES(NULL, ?, ?)\"\"\", dept.values.tolist())\n",
    "con.commit()"
   ]
  },
  {
   "cell_type": "code",
   "execution_count": 83,
   "metadata": {
    "collapsed": false
   },
   "outputs": [],
   "source": [
    "cur.execute(\"DROP TABLE IF EXISTS Communes\")\n",
    "cur.execute(\"\"\"\n",
    "CREATE TABLE Communes(\n",
    "    Id INTEGER PRIMARY KEY AUTOINCREMENT,\n",
    "    Nom TEXT, \n",
    "    CommCode INT, \n",
    "    DeptId TEXT,\n",
    "    UNIQUE (CommCode, DeptId))\"\"\")\n",
    "con.commit()"
   ]
  },
  {
   "cell_type": "code",
   "execution_count": 84,
   "metadata": {
    "collapsed": false
   },
   "outputs": [
    {
     "name": "stdout",
     "output_type": "stream",
     "text": [
      "Libellé de la commune    0\n",
      "Code de la commune       0\n",
      "Id                       0\n",
      "dtype: int64\n"
     ]
    },
    {
     "data": {
      "text/html": [
       "<div>\n",
       "<table border=\"1\" class=\"dataframe\">\n",
       "  <thead>\n",
       "    <tr style=\"text-align: right;\">\n",
       "      <th></th>\n",
       "      <th>Libellé de la commune</th>\n",
       "      <th>Code de la commune</th>\n",
       "      <th>Id</th>\n",
       "    </tr>\n",
       "  </thead>\n",
       "  <tbody>\n",
       "    <tr>\n",
       "      <th>36534</th>\n",
       "      <td>M'Tsangamouji</td>\n",
       "      <td>513</td>\n",
       "      <td>98</td>\n",
       "    </tr>\n",
       "    <tr>\n",
       "      <th>36535</th>\n",
       "      <td>Tsingoni</td>\n",
       "      <td>517</td>\n",
       "      <td>98</td>\n",
       "    </tr>\n",
       "  </tbody>\n",
       "</table>\n",
       "</div>"
      ],
      "text/plain": [
       "      Libellé de la commune  Code de la commune  Id\n",
       "36534         M'Tsangamouji                 513  98\n",
       "36535              Tsingoni                 517  98"
      ]
     },
     "execution_count": 84,
     "metadata": {},
     "output_type": "execute_result"
    }
   ],
   "source": [
    "coms = geos[['Libellé de la commune', 'Code de la commune','Code du département']].drop_duplicates()\n",
    "dpts_tbl = pd.read_sql_query(\"SELECT Id, DeptCode FROM Departements\", con)\n",
    "coms[['Code du département']] = coms[['Code du département']].astype(str)\n",
    "coms_u = pd.merge(coms, \n",
    "                  dpts_tbl,\n",
    "                  left_on = ['Code du département'], \n",
    "                  right_on = ['DeptCode'],\n",
    "                  how = 'left')\n",
    "coms_u = coms_u[['Libellé de la commune','Code de la commune', 'Id']]\n",
    "print(coms_u.isnull().sum())\n",
    "coms_u.tail(n = 2)"
   ]
  },
  {
   "cell_type": "code",
   "execution_count": 85,
   "metadata": {
    "collapsed": false
   },
   "outputs": [],
   "source": [
    "cur.executemany(\"\"\"\n",
    "INSERT INTO Communes(Id, Nom, CommCode, DeptId) \n",
    "VALUES(NULL, ?, ?, ?)\"\"\", coms_u.values.tolist())\n",
    "con.commit()"
   ]
  },
  {
   "cell_type": "code",
   "execution_count": 109,
   "metadata": {
    "collapsed": false
   },
   "outputs": [
    {
     "data": {
      "text/plain": [
       "<sqlite3.Cursor at 0x104cb0650>"
      ]
     },
     "execution_count": 109,
     "metadata": {},
     "output_type": "execute_result"
    }
   ],
   "source": [
    "cur.execute(\"DROP TABLE IF EXISTS Cantons\")\n",
    "cur.execute(\"\"\"\n",
    "CREATE TABLE Cantons(\n",
    "    Id INTEGER PRIMARY KEY AUTOINCREMENT,\n",
    "    Nom TEXT, \n",
    "    CantCode INT, \n",
    "    CommId INT)\"\"\")"
   ]
  },
  {
   "cell_type": "code",
   "execution_count": 111,
   "metadata": {
    "collapsed": false
   },
   "outputs": [
    {
     "name": "stdout",
     "output_type": "stream",
     "text": [
      "Libellé du canton    0\n",
      "Code du canton       0\n",
      "Id                   0\n",
      "dtype: int64\n"
     ]
    },
    {
     "data": {
      "text/html": [
       "<div>\n",
       "<table border=\"1\" class=\"dataframe\">\n",
       "  <thead>\n",
       "    <tr style=\"text-align: right;\">\n",
       "      <th></th>\n",
       "      <th>Libellé du canton</th>\n",
       "      <th>Code du canton</th>\n",
       "      <th>Id</th>\n",
       "    </tr>\n",
       "  </thead>\n",
       "  <tbody>\n",
       "    <tr>\n",
       "      <th>0</th>\n",
       "      <td>Ambérieu-en-Bugey</td>\n",
       "      <td>1</td>\n",
       "      <td>1</td>\n",
       "    </tr>\n",
       "    <tr>\n",
       "      <th>1</th>\n",
       "      <td>Ambérieu-en-Bugey</td>\n",
       "      <td>1</td>\n",
       "      <td>2</td>\n",
       "    </tr>\n",
       "  </tbody>\n",
       "</table>\n",
       "</div>"
      ],
      "text/plain": [
       "   Libellé du canton  Code du canton  Id\n",
       "0  Ambérieu-en-Bugey               1   1\n",
       "1  Ambérieu-en-Bugey               1   2"
      ]
     },
     "execution_count": 111,
     "metadata": {},
     "output_type": "execute_result"
    }
   ],
   "source": [
    "cans = geos[['Code du canton',\n",
    "             'Libellé du canton',\n",
    "             'Code de la commune',\n",
    "             'Code du département']].drop_duplicates()\n",
    "coms_tbl = pd.read_sql_query(\"\"\"\n",
    "    SELECT C.Id, C.CommCode, D.DeptCode \n",
    "    FROM Communes C \n",
    "    LEFT JOIN Departements D ON DeptId = D.Id\"\"\", con)\n",
    "cans['Code du département'] = cans['Code du département'].astype(str)\n",
    "cans_u = pd.merge(cans, \n",
    "                  coms_tbl,\n",
    "                  left_on = ['Code du département', 'Code de la commune'], \n",
    "                  right_on = ['DeptCode', 'CommCode'],\n",
    "                  how = 'left')\n",
    "cans_u = cans_u[['Libellé du canton','Code du canton','Id']]\n",
    "print(cans_u.isnull().sum())\n",
    "cans_u.head(n = 2)"
   ]
  },
  {
   "cell_type": "code",
   "execution_count": 113,
   "metadata": {
    "collapsed": false
   },
   "outputs": [],
   "source": [
    "cur.executemany(\"\"\"\n",
    "INSERT INTO Cantons(Id, Nom, CantCode, CommId) \n",
    "VALUES(NULL, ?, ?, ?)\"\"\", cans_u.values.tolist())\n",
    "con.commit()"
   ]
  },
  {
   "cell_type": "code",
   "execution_count": null,
   "metadata": {
    "collapsed": true
   },
   "outputs": [],
   "source": []
  }
 ],
 "metadata": {
  "kernelspec": {
   "display_name": "Python 3",
   "language": "python",
   "name": "python3"
  },
  "language_info": {
   "codemirror_mode": {
    "name": "ipython",
    "version": 3
   },
   "file_extension": ".py",
   "mimetype": "text/x-python",
   "name": "python",
   "nbconvert_exporter": "python",
   "pygments_lexer": "ipython3",
   "version": "3.5.1"
  }
 },
 "nbformat": 4,
 "nbformat_minor": 0
}
